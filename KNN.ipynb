{
  "nbformat": 4,
  "nbformat_minor": 0,
  "metadata": {
    "colab": {
      "provenance": [],
      "authorship_tag": "ABX9TyMjtJI7K+5U8cAKrjrOqLCy",
      "include_colab_link": true
    },
    "kernelspec": {
      "name": "python3",
      "display_name": "Python 3"
    },
    "language_info": {
      "name": "python"
    }
  },
  "cells": [
    {
      "cell_type": "markdown",
      "metadata": {
        "id": "view-in-github",
        "colab_type": "text"
      },
      "source": [
        "<a href=\"https://colab.research.google.com/github/ANUPAMABS/CNN-project/blob/main/KNN.ipynb\" target=\"_parent\"><img src=\"https://colab.research.google.com/assets/colab-badge.svg\" alt=\"Open In Colab\"/></a>"
      ]
    },
    {
      "cell_type": "code",
      "execution_count": null,
      "metadata": {
        "id": "ikg1cE0eSb-P"
      },
      "outputs": [],
      "source": [
        "import pandas as pd\n",
        "from sklearn.datasets import load_iris\n",
        "from sklearn.model_selection import train_test_split\n",
        "from sklearn.metrics import accuracy_score\n",
        "from sklearn.neighbors import KNeighborsClassifier\n",
        "\n",
        "data = load_iris()\n",
        "X = data.data\n",
        "y = data.target\n",
        "\n",
        "import numpy as np\n",
        "x_train,x_test,y_train,y_test = train_test_split(X,y,test_size=.3)\n",
        "\n",
        "model = KNeighborsClassifier(n_neighbors = 5)\n",
        "model.fit(x_train,y_train)\n",
        "ypred = model.predict(x_test)\n",
        "\n",
        "print(\"The accuracy score of KNN is: \", accuracy_score(ypred, y_test))\n",
        "\n",
        "diff = ypred - y_test\n",
        "missamplified = sum(abs(diff))\n",
        "print(\"The total samples classified are: \",len(ypred))\n",
        "print(\"The missamplified data are: \",missamplified)\n",
        "print(\"Correct samplified data are: \",len(ypred)-missamplified)"
      ]
    }
  ]
}